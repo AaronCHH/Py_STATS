{
 "cells": [
  {
   "cell_type": "markdown",
   "metadata": {},
   "source": [
    "# Stats"
   ]
  },
  {
   "cell_type": "markdown",
   "metadata": {},
   "source": [
    "<div id=\"toc\"></div>"
   ]
  },
  {
   "cell_type": "code",
   "execution_count": 1,
   "metadata": {},
   "outputs": [],
   "source": [
    "import os, sys, glob\n",
    "import numpy as np\n",
    "import pandas as pd\n",
    "import scipy as sp\n",
    "import matplotlib.pyplot as plt\n",
    "%matplotlib inline"
   ]
  },
  {
   "cell_type": "code",
   "execution_count": 5,
   "metadata": {},
   "outputs": [
    {
     "data": {
      "text/html": [
       "<div>\n",
       "<table border=\"1\" class=\"dataframe\">\n",
       "  <thead>\n",
       "    <tr style=\"text-align: right;\">\n",
       "      <th></th>\n",
       "      <th>0</th>\n",
       "      <th>1</th>\n",
       "      <th>2</th>\n",
       "      <th>3</th>\n",
       "      <th>4</th>\n",
       "      <th>5</th>\n",
       "    </tr>\n",
       "  </thead>\n",
       "  <tbody>\n",
       "    <tr>\n",
       "      <th>0</th>\n",
       "      <td>220158.2</td>\n",
       "      <td>176491.7</td>\n",
       "      <td>441836.0</td>\n",
       "      <td>35907.4</td>\n",
       "      <td>48308.1</td>\n",
       "      <td>1243.1</td>\n",
       "    </tr>\n",
       "    <tr>\n",
       "      <th>1</th>\n",
       "      <td>222924.4</td>\n",
       "      <td>170472.1</td>\n",
       "      <td>440202.6</td>\n",
       "      <td>36856.1</td>\n",
       "      <td>48070.5</td>\n",
       "      <td>1243.7</td>\n",
       "    </tr>\n",
       "    <tr>\n",
       "      <th>2</th>\n",
       "      <td>219749.8</td>\n",
       "      <td>176723.9</td>\n",
       "      <td>441400.6</td>\n",
       "      <td>35981.0</td>\n",
       "      <td>48464.2</td>\n",
       "      <td>1242.8</td>\n",
       "    </tr>\n",
       "    <tr>\n",
       "      <th>3</th>\n",
       "      <td>222537.8</td>\n",
       "      <td>170488.0</td>\n",
       "      <td>436882.5</td>\n",
       "      <td>37278.8</td>\n",
       "      <td>48493.9</td>\n",
       "      <td>1243.4</td>\n",
       "    </tr>\n",
       "    <tr>\n",
       "      <th>4</th>\n",
       "      <td>222924.4</td>\n",
       "      <td>170472.1</td>\n",
       "      <td>440202.6</td>\n",
       "      <td>36856.1</td>\n",
       "      <td>48246.0</td>\n",
       "      <td>1243.7</td>\n",
       "    </tr>\n",
       "    <tr>\n",
       "      <th>5</th>\n",
       "      <td>215977.3</td>\n",
       "      <td>171496.7</td>\n",
       "      <td>430090.5</td>\n",
       "      <td>36414.4</td>\n",
       "      <td>48079.4</td>\n",
       "      <td>1235.0</td>\n",
       "    </tr>\n",
       "  </tbody>\n",
       "</table>\n",
       "</div>"
      ],
      "text/plain": [
       "          0         1         2        3        4       5\n",
       "0  220158.2  176491.7  441836.0  35907.4  48308.1  1243.1\n",
       "1  222924.4  170472.1  440202.6  36856.1  48070.5  1243.7\n",
       "2  219749.8  176723.9  441400.6  35981.0  48464.2  1242.8\n",
       "3  222537.8  170488.0  436882.5  37278.8  48493.9  1243.4\n",
       "4  222924.4  170472.1  440202.6  36856.1  48246.0  1243.7\n",
       "5  215977.3  171496.7  430090.5  36414.4  48079.4  1235.0"
      ]
     },
     "execution_count": 5,
     "metadata": {},
     "output_type": "execute_result"
    }
   ],
   "source": [
    "data = pd.read_csv('data/data.csv', header = None)\n",
    "data"
   ]
  },
  {
   "cell_type": "markdown",
   "metadata": {},
   "source": [
    "### mean"
   ]
  },
  {
   "cell_type": "code",
   "execution_count": 6,
   "metadata": {},
   "outputs": [
    {
     "data": {
      "text/plain": [
       "0    220711.983333\n",
       "1    172690.750000\n",
       "2    438435.800000\n",
       "3     36548.966667\n",
       "4     48277.016667\n",
       "5      1241.950000\n",
       "dtype: float64"
      ]
     },
     "execution_count": 6,
     "metadata": {},
     "output_type": "execute_result"
    }
   ],
   "source": [
    "M = np.mean(data_frame,0)\n",
    "M"
   ]
  },
  {
   "cell_type": "code",
   "execution_count": 7,
   "metadata": {},
   "outputs": [
    {
     "data": {
      "text/plain": [
       "0    153990.750000\n",
       "1    153294.900000\n",
       "2    153927.050000\n",
       "3    152820.733333\n",
       "4    153324.150000\n",
       "5    150548.883333\n",
       "dtype: float64"
      ]
     },
     "execution_count": 7,
     "metadata": {},
     "output_type": "execute_result"
    }
   ],
   "source": [
    "M = np.mean(data_frame,1)\n",
    "M"
   ]
  },
  {
   "cell_type": "markdown",
   "metadata": {},
   "source": [
    "### Variance"
   ]
  },
  {
   "cell_type": "code",
   "execution_count": 30,
   "metadata": {
    "scrolled": true
   },
   "outputs": [
    {
     "data": {
      "text/plain": [
       "0    6.128813e+06\n",
       "1    7.806033e+06\n",
       "2    1.644189e+07\n",
       "3    2.456034e+05\n",
       "4    2.761761e+04\n",
       "5    9.762500e+00\n",
       "dtype: float64"
      ]
     },
     "execution_count": 30,
     "metadata": {},
     "output_type": "execute_result"
    }
   ],
   "source": [
    "S = np.var(data)\n",
    "S"
   ]
  },
  {
   "cell_type": "code",
   "execution_count": 31,
   "metadata": {
    "scrolled": true
   },
   "outputs": [
    {
     "data": {
      "text/plain": [
       "0    2.269728e+10\n",
       "1    2.253485e+10\n",
       "2    2.263992e+10\n",
       "3    2.217890e+10\n",
       "4    2.252870e+10\n",
       "5    2.144742e+10\n",
       "dtype: float64"
      ]
     },
     "execution_count": 31,
     "metadata": {},
     "output_type": "execute_result"
    }
   ],
   "source": [
    "S = np.var(data, 1)\n",
    "S"
   ]
  },
  {
   "cell_type": "markdown",
   "metadata": {},
   "source": [
    "### standard diviation"
   ]
  },
  {
   "cell_type": "code",
   "execution_count": 29,
   "metadata": {
    "scrolled": true
   },
   "outputs": [
    {
     "data": {
      "text/plain": [
       "0    2475.644042\n",
       "1    2793.927893\n",
       "2    4054.859976\n",
       "3     495.583927\n",
       "4     166.185473\n",
       "5       3.124500\n",
       "dtype: float64"
      ]
     },
     "execution_count": 29,
     "metadata": {},
     "output_type": "execute_result"
    }
   ],
   "source": [
    "S = np.std(data)\n",
    "S"
   ]
  },
  {
   "cell_type": "code",
   "execution_count": 28,
   "metadata": {
    "scrolled": true
   },
   "outputs": [
    {
     "data": {
      "text/plain": [
       "0    150656.151980\n",
       "1    150116.114898\n",
       "2    150465.686219\n",
       "3    148925.822403\n",
       "4    150095.624861\n",
       "5    146449.374208\n",
       "dtype: float64"
      ]
     },
     "execution_count": 28,
     "metadata": {},
     "output_type": "execute_result"
    }
   ],
   "source": [
    "S = np.std(data,1)\n",
    "S"
   ]
  },
  {
   "cell_type": "markdown",
   "metadata": {},
   "source": [
    "### mode"
   ]
  },
  {
   "cell_type": "code",
   "execution_count": 27,
   "metadata": {},
   "outputs": [
    {
     "data": {
      "text/plain": [
       "ModeResult(mode=array([[ 222924.4,  170472.1,  440202.6,   36856.1,   48070.5,    1243.7]]), count=array([[2, 2, 2, 2, 1, 2]]))"
      ]
     },
     "execution_count": 27,
     "metadata": {},
     "output_type": "execute_result"
    }
   ],
   "source": [
    "from scipy import stats\n",
    "\n",
    "Mo = stats.mode(data)\n",
    "Mo"
   ]
  },
  {
   "cell_type": "code",
   "execution_count": 26,
   "metadata": {},
   "outputs": [
    {
     "data": {
      "text/plain": [
       "ModeResult(mode=array([[ 1243.1],\n",
       "       [ 1243.7],\n",
       "       [ 1242.8],\n",
       "       [ 1243.4],\n",
       "       [ 1243.7],\n",
       "       [ 1235. ]]), count=array([[1],\n",
       "       [1],\n",
       "       [1],\n",
       "       [1],\n",
       "       [1],\n",
       "       [1]]))"
      ]
     },
     "execution_count": 26,
     "metadata": {},
     "output_type": "execute_result"
    }
   ],
   "source": [
    "from scipy import stats\n",
    "\n",
    "Mo = stats.mode(data,1)\n",
    "Mo"
   ]
  },
  {
   "cell_type": "markdown",
   "metadata": {},
   "source": [
    "### range/ptp"
   ]
  },
  {
   "cell_type": "code",
   "execution_count": 13,
   "metadata": {},
   "outputs": [
    {
     "data": {
      "text/plain": [
       "0     6947.1\n",
       "1     6251.8\n",
       "2    11745.5\n",
       "3     1371.4\n",
       "4      423.4\n",
       "5        8.7\n",
       "dtype: float64"
      ]
     },
     "execution_count": 13,
     "metadata": {},
     "output_type": "execute_result"
    }
   ],
   "source": [
    "np.max(data) - np.min(data)"
   ]
  },
  {
   "cell_type": "code",
   "execution_count": 14,
   "metadata": {},
   "outputs": [
    {
     "data": {
      "text/plain": [
       "0    440592.9\n",
       "1    438958.9\n",
       "2    440157.8\n",
       "3    435639.1\n",
       "4    438958.9\n",
       "5    428855.5\n",
       "dtype: float64"
      ]
     },
     "execution_count": 14,
     "metadata": {},
     "output_type": "execute_result"
    }
   ],
   "source": [
    "np.max(data, 1) - np.min(data,1)"
   ]
  },
  {
   "cell_type": "code",
   "execution_count": 24,
   "metadata": {},
   "outputs": [
    {
     "data": {
      "text/html": [
       "<div>\n",
       "<table border=\"1\" class=\"dataframe\">\n",
       "  <thead>\n",
       "    <tr style=\"text-align: right;\">\n",
       "      <th></th>\n",
       "      <th>0</th>\n",
       "      <th>1</th>\n",
       "      <th>2</th>\n",
       "      <th>3</th>\n",
       "      <th>4</th>\n",
       "      <th>5</th>\n",
       "    </tr>\n",
       "  </thead>\n",
       "  <tbody>\n",
       "    <tr>\n",
       "      <th>0</th>\n",
       "      <td>220158.2</td>\n",
       "      <td>176491.7</td>\n",
       "      <td>441836.0</td>\n",
       "      <td>35907.4</td>\n",
       "      <td>48308.1</td>\n",
       "      <td>1243.1</td>\n",
       "    </tr>\n",
       "    <tr>\n",
       "      <th>1</th>\n",
       "      <td>222924.4</td>\n",
       "      <td>170472.1</td>\n",
       "      <td>440202.6</td>\n",
       "      <td>36856.1</td>\n",
       "      <td>48070.5</td>\n",
       "      <td>1243.7</td>\n",
       "    </tr>\n",
       "    <tr>\n",
       "      <th>2</th>\n",
       "      <td>219749.8</td>\n",
       "      <td>176723.9</td>\n",
       "      <td>441400.6</td>\n",
       "      <td>35981.0</td>\n",
       "      <td>48464.2</td>\n",
       "      <td>1242.8</td>\n",
       "    </tr>\n",
       "    <tr>\n",
       "      <th>3</th>\n",
       "      <td>222537.8</td>\n",
       "      <td>170488.0</td>\n",
       "      <td>436882.5</td>\n",
       "      <td>37278.8</td>\n",
       "      <td>48493.9</td>\n",
       "      <td>1243.4</td>\n",
       "    </tr>\n",
       "    <tr>\n",
       "      <th>4</th>\n",
       "      <td>222924.4</td>\n",
       "      <td>170472.1</td>\n",
       "      <td>440202.6</td>\n",
       "      <td>36856.1</td>\n",
       "      <td>48246.0</td>\n",
       "      <td>1243.7</td>\n",
       "    </tr>\n",
       "    <tr>\n",
       "      <th>5</th>\n",
       "      <td>215977.3</td>\n",
       "      <td>171496.7</td>\n",
       "      <td>430090.5</td>\n",
       "      <td>36414.4</td>\n",
       "      <td>48079.4</td>\n",
       "      <td>1235.0</td>\n",
       "    </tr>\n",
       "  </tbody>\n",
       "</table>\n",
       "</div>"
      ],
      "text/plain": [
       "          0         1         2        3        4       5\n",
       "0  220158.2  176491.7  441836.0  35907.4  48308.1  1243.1\n",
       "1  222924.4  170472.1  440202.6  36856.1  48070.5  1243.7\n",
       "2  219749.8  176723.9  441400.6  35981.0  48464.2  1242.8\n",
       "3  222537.8  170488.0  436882.5  37278.8  48493.9  1243.4\n",
       "4  222924.4  170472.1  440202.6  36856.1  48246.0  1243.7\n",
       "5  215977.3  171496.7  430090.5  36414.4  48079.4  1235.0"
      ]
     },
     "execution_count": 24,
     "metadata": {},
     "output_type": "execute_result"
    }
   ],
   "source": [
    "data"
   ]
  },
  {
   "cell_type": "code",
   "execution_count": 23,
   "metadata": {
    "scrolled": true
   },
   "outputs": [
    {
     "data": {
      "text/plain": [
       "array([  6.94710000e+03,   6.25180000e+03,   1.17455000e+04,\n",
       "         1.37140000e+03,   4.23400000e+02,   8.70000000e+00])"
      ]
     },
     "execution_count": 23,
     "metadata": {},
     "output_type": "execute_result"
    }
   ],
   "source": [
    "np.ptp(np.array(data), axis=0)"
   ]
  },
  {
   "cell_type": "code",
   "execution_count": 25,
   "metadata": {
    "scrolled": true
   },
   "outputs": [
    {
     "data": {
      "text/plain": [
       "array([ 440592.9,  438958.9,  440157.8,  435639.1,  438958.9,  428855.5])"
      ]
     },
     "execution_count": 25,
     "metadata": {},
     "output_type": "execute_result"
    }
   ],
   "source": [
    "np.ptp(np.array(data), axis=1)"
   ]
  },
  {
   "cell_type": "markdown",
   "metadata": {},
   "source": [
    "## Moments"
   ]
  },
  {
   "cell_type": "markdown",
   "metadata": {},
   "source": [
    "### skewness"
   ]
  },
  {
   "cell_type": "code",
   "execution_count": 35,
   "metadata": {},
   "outputs": [
    {
     "data": {
      "text/plain": [
       "pandas.core.frame.DataFrame"
      ]
     },
     "execution_count": 35,
     "metadata": {},
     "output_type": "execute_result"
    }
   ],
   "source": [
    "type(data)"
   ]
  },
  {
   "cell_type": "code",
   "execution_count": 37,
   "metadata": {},
   "outputs": [
    {
     "data": {
      "text/plain": [
       "array([-0.87276925,  0.65938398, -1.2713098 , -0.00415422,  0.00854593,\n",
       "       -1.74737307])"
      ]
     },
     "execution_count": 37,
     "metadata": {},
     "output_type": "execute_result"
    }
   ],
   "source": [
    "import scipy.stats as stats\n",
    "stats.skew(data)"
   ]
  },
  {
   "cell_type": "markdown",
   "metadata": {},
   "source": [
    "### kurtosis"
   ]
  },
  {
   "cell_type": "code",
   "execution_count": 34,
   "metadata": {},
   "outputs": [
    {
     "data": {
      "text/plain": [
       "array([-0.50408789, -1.50289048,  0.13593456, -1.4103655 , -1.51714364,\n",
       "        1.12455806])"
      ]
     },
     "execution_count": 34,
     "metadata": {},
     "output_type": "execute_result"
    }
   ],
   "source": [
    "import scipy.stats as stats\n",
    "stats.kurtosis(data)"
   ]
  },
  {
   "cell_type": "code",
   "execution_count": null,
   "metadata": {},
   "outputs": [],
   "source": []
  }
 ],
 "metadata": {
  "kernelspec": {
   "display_name": "Python [default]",
   "language": "python",
   "name": "python3"
  },
  "language_info": {
   "codemirror_mode": {
    "name": "ipython",
    "version": 3
   },
   "file_extension": ".py",
   "mimetype": "text/x-python",
   "name": "python",
   "nbconvert_exporter": "python",
   "pygments_lexer": "ipython3",
   "version": "3.5.2"
  }
 },
 "nbformat": 4,
 "nbformat_minor": 1
}
